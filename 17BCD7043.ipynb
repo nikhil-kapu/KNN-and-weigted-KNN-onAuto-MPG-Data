{
  "nbformat": 4,
  "nbformat_minor": 0,
  "metadata": {
    "kernelspec": {
      "name": "python3",
      "language": "python",
      "display_name": "Python 3"
    },
    "kernel_info": {
      "name": "python3"
    },
    "language_info": {
      "name": "python",
      "version": "3.6.4",
      "mimetype": "text/x-python",
      "codemirror_mode": {
        "name": "ipython",
        "version": 3
      },
      "pygments_lexer": "ipython3",
      "nbconvert_exporter": "python",
      "file_extension": ".py"
    },
    "nteract": {
      "version": "0.8.4"
    },
    "colab": {
      "name": "Predict-mpg.ipynb",
      "provenance": []
    }
  },
  "cells": [
    {
      "cell_type": "markdown",
      "metadata": {
        "id": "MpIiLjXC_eWL",
        "colab_type": "text"
      },
      "source": [
        "#Machine Learning Lab Assignment\n",
        "##Nikhil Kapu\n",
        "##17BCD7043\n",
        "##Slot- L39+L40\n",
        "\n",
        "\n",
        "### Here in this Jupyter notebook i have performed KNN and weigted KNN on **Auto MPG Data Set** available at https://archive.ics.uci.edu/ml/datasets/auto+mpg.\n",
        "\n",
        "### I have used three parameters for comparision which are- Displacement, Horsepower and mpg.\n",
        "\n",
        "\n",
        "##First of all lets load the Training and testing dataset-"
      ]
    },
    {
      "cell_type": "code",
      "metadata": {
        "outputHidden": false,
        "inputHidden": false,
        "id": "hp568Ys6_eWM",
        "colab_type": "code",
        "colab": {},
        "outputId": "5ccfbf0f-5213-4d2e-f4c5-27a4152b619b"
      },
      "source": [
        "import pandas\n",
        "\n",
        "training_data = pandas.read_csv(\"auto_train.csv\")\n",
        "print(training_data.head())\n",
        "test_data = pandas.read_csv(\"auto_test.csv\")\n",
        "print(test_data.head())\n",
        "\n",
        "x = training_data.iloc[:,:-1]\n",
        "y = training_data.iloc[:,-1]\n",
        "\n",
        "x_test = test_data.iloc[:,:-1]\n",
        "y_test = test_data.iloc[:,-1]"
      ],
      "execution_count": 0,
      "outputs": [
        {
          "output_type": "stream",
          "text": [
            "   displacement  horsepower   mpg\n",
            "0         307.0         130  18.0\n",
            "1         350.0         165  15.0\n",
            "2         318.0         150  18.0\n",
            "3         304.0         150  16.0\n",
            "4         302.0         140  17.0\n",
            "   displacement  horsepower   mpg\n",
            "0            89          71  31.9\n",
            "1            86          65  34.1\n",
            "2            98          80  35.7\n",
            "3           121          80  27.4\n",
            "4           183          77  25.4\n"
          ],
          "name": "stdout"
        }
      ]
    },
    {
      "cell_type": "markdown",
      "metadata": {
        "id": "AgISM-Dh_eWR",
        "colab_type": "text"
      },
      "source": [
        "### k-NN\n",
        "Implemented k Nearest Neighbor from scratch. Using the data in the training set, predicted the output for each example in the test, for k = 1, k = 3, and k = 20. Reported the squared error Err on the test set."
      ]
    },
    {
      "cell_type": "code",
      "metadata": {
        "outputHidden": false,
        "inputHidden": false,
        "id": "FqgvN7s7_eWR",
        "colab_type": "code",
        "colab": {},
        "outputId": "da39fafa-8f9b-488b-c7bc-840cced24309"
      },
      "source": [
        "from kNN import kNN\n",
        "from sklearn.metrics import mean_squared_error\n",
        "\n",
        "for k in [1, 3, 20]:\n",
        "    classifier = kNN(x,y, k)\n",
        "    pred_test = classifier.predict(x_test)\n",
        "\n",
        "    test_error = mean_squared_error(y_test, pred_test)\n",
        "    print(\"Test error with k={}: {}\".format(k, test_error * len(y_test)/2))\n",
        "\n"
      ],
      "execution_count": 0,
      "outputs": [
        {
          "output_type": "stream",
          "text": [
            "Test error with k=1: 2868.0049999999997\n",
            "Test error with k=3: 2794.729999999999\n",
            "Test error with k=20: 2746.1914125\n"
          ],
          "name": "stdout"
        }
      ]
    },
    {
      "cell_type": "markdown",
      "metadata": {
        "id": "P7QNipAZ_eWU",
        "colab_type": "text"
      },
      "source": [
        "### Weighted k-NN\n",
        "Instead of computing an average of the k neighbors, I computed a weighted average of the neighbors using a gaussian function to retrieve the weight for each neighbor."
      ]
    },
    {
      "cell_type": "code",
      "metadata": {
        "outputHidden": false,
        "inputHidden": false,
        "id": "S1YFmBkL_eWV",
        "colab_type": "code",
        "colab": {},
        "outputId": "c875ff02-4d5a-4c6e-fd30-cf0e391ef8f4"
      },
      "source": [
        "from kNN import kNN\n",
        "\n",
        "for k in [1, 3, 20]:\n",
        "    classifier = kNN(x,y, k, weighted=True)\n",
        "    pred_test = classifier.predict(x_test)\n",
        "\n",
        "    test_error = mean_squared_error(y_test, pred_test)\n",
        "    print(\"Test error with k={}: {}\".format(k, test_error * len(y_test)/2))\n"
      ],
      "execution_count": 0,
      "outputs": [
        {
          "output_type": "stream",
          "text": [
            "Test error with k=1: 2868.005\n",
            "Test error with k=3: 2757.3065023859417\n",
            "Test error with k=20: 2737.9437262401907\n"
          ],
          "name": "stdout"
        }
      ]
    },
    {
      "cell_type": "markdown",
      "metadata": {
        "id": "XKH08pe5DHxY",
        "colab_type": "text"
      },
      "source": [
        "So based on these three parameters its clear that **weighted KNN is more accurate** as it has less error by a measure of 2746-2736 = 10."
      ]
    }
  ]
}